{
 "cells": [
  {
   "cell_type": "code",
   "execution_count": 3,
   "id": "4e63aee7",
   "metadata": {},
   "outputs": [],
   "source": [
    "import pandas as pd\n",
    "pd.set_option('display.max_columns', None)\n",
    "from sklearn.pipeline import Pipeline\n",
    "from sklearn.feature_extraction.text import TfidfVectorizer\n",
    "from sklearn.ensemble import RandomForestClassifier\n",
    "from sklearn.model_selection import train_test_split\n",
    "from sklearn.metrics import confusion_matrix, classification_report\n",
    "import matplotlib.pyplot as plt\n",
    "import seaborn as sns\n",
    "\n"
   ]
  },
  {
   "cell_type": "code",
   "execution_count": 4,
   "id": "e3a5012f",
   "metadata": {},
   "outputs": [],
   "source": [
    "data = [\n",
    "    {\"Question\": \"What is TechPro?\", \"Answer\": \"TechPro is a project management software for teams.\"},\n",
    "    {\"Question\": \"How do I reset my TechPro password?\", \"Answer\": \"Click 'Forgot Password' on the login page and follow the steps.\"},\n",
    "    {\"Question\": \"Can I use TechPro on a mobile device?\", \"Answer\": \"Yes, TechPro has Android and iOS apps available.\"},\n",
    "    {\"Question\": \"How much does TechPro cost?\", \"Answer\": \"TechPro offers a free plan and paid plans starting at $10/month.\"},\n",
    "    {\"Question\": \"Does TechPro support file sharing?\", \"Answer\": \"Yes, you can share files within any project workspace.\"},\n",
    "    {\"Question\": \"How do I invite team members to TechPro?\", \"Answer\": \"Click 'Invite' on your dashboard and enter their email addresses.\"},\n",
    "    {\"Question\": \"Where can I find TechPro tutorials?\", \"Answer\": \"Tutorials are available on our Help Center and YouTube channel.\"},\n",
    "    {\"Question\": \"Is my data secure with TechPro?\", \"Answer\": \"Yes, we use end-to-end encryption and regular security audits.\"},\n",
    "    {\"Question\": \"Can I cancel my TechPro subscription anytime?\", \"Answer\": \"Yes, you can cancel anytime from your account settings.\"},\n",
    "    {\"Question\": \"Who do I contact for TechPro support?\", \"Answer\": \"Email support@techpro.com or use the in-app chat.\"},\n",
    "    {\"Question\": \"Does TechPro integrate with Google Drive?\", \"Answer\": \"Yes, TechPro connects with Google Drive for file management.\"},\n",
    "    {\"Question\": \"How do I change my notification settings?\", \"Answer\": \"Go to your profile and select 'Notification Settings' to adjust preferences.\"},\n",
    "]"
   ]
  },
  {
   "cell_type": "code",
   "execution_count": 25,
   "id": "4484005b",
   "metadata": {},
   "outputs": [],
   "source": [
    "df = pd.DataFrame(data)\n",
    "y= df['Question']"
   ]
  },
  {
   "cell_type": "code",
   "execution_count": 27,
   "id": "0264d4c7",
   "metadata": {},
   "outputs": [],
   "source": [
    "vectorizer = TfidfVectorizer()\n",
    "x=vectorizer.fit_transform(df['Question'])\n"
   ]
  },
  {
   "cell_type": "code",
   "execution_count": 28,
   "id": "8c7ed5c0",
   "metadata": {},
   "outputs": [],
   "source": [
    "x_train, x_test, y_train ,y_test= train_test_split(x ,y ,test_size=0.2,random_state=42)"
   ]
  },
  {
   "cell_type": "code",
   "execution_count": 30,
   "id": "b5cff7b2",
   "metadata": {},
   "outputs": [
    {
     "name": "stdout",
     "output_type": "stream",
     "text": [
      "Training completed successfully!\n"
     ]
    }
   ],
   "source": [
    "clf = RandomForestClassifier(n_estimators=50,random_state=42)\n",
    "clf.fit(x_train,y_train)\n",
    "print(\"Training completed successfully!\")"
   ]
  },
  {
   "cell_type": "code",
   "execution_count": 31,
   "id": "87213ded",
   "metadata": {},
   "outputs": [],
   "source": [
    "def chatbot_reply(user_question):\n",
    "    user_vec = vectorizer.transform([user_question])\n",
    "    predicted_intent = clf.predict(user_vec)[0]\n",
    "    answer = df.loc[df['Question'] == predicted_intent, 'Answer'].values[0]\n",
    "    return answer"
   ]
  },
  {
   "cell_type": "code",
   "execution_count": null,
   "id": "f7213769",
   "metadata": {},
   "outputs": [
    {
     "name": "stdout",
     "output_type": "stream",
     "text": [
      "Welcome to the TechPro chatbot! Type 'exit' to quit.\n",
      "Chatbot: Click 'Forgot Password' on the login page and follow the steps.\n",
      "\n",
      "Chatbot: Go to your profile and select 'Notification Settings' to adjust preferences.\n",
      "\n"
     ]
    }
   ],
   "source": [
    "print(\"Welcome to the TechPro chatbot! Type 'exit' to quit.\")\n",
    "\n",
    "while True:\n",
    "    user_input = input(\"You: \").strip()\n",
    "    if user_input.lower() in ['exit', 'quit']:\n",
    "        print(\"Chatbot: Goodbye! Have a great day.\")\n",
    "        break\n",
    "    response = chatbot_reply(user_input)\n",
    "    print(f\"Chatbot: {response}\\n\")"
   ]
  }
 ],
 "metadata": {
  "kernelspec": {
   "display_name": "Python 3",
   "language": "python",
   "name": "python3"
  },
  "language_info": {
   "codemirror_mode": {
    "name": "ipython",
    "version": 3
   },
   "file_extension": ".py",
   "mimetype": "text/x-python",
   "name": "python",
   "nbconvert_exporter": "python",
   "pygments_lexer": "ipython3",
   "version": "3.13.3"
  }
 },
 "nbformat": 4,
 "nbformat_minor": 5
}
